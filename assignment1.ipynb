{
 "cells": [
  {
   "cell_type": "code",
   "execution_count": null,
   "id": "427cb207-2297-4f53-98dd-7cd10b51a39c",
   "metadata": {},
   "outputs": [],
   "source": [
    "#29th January Assignment\n",
    "\n",
    "#1) Guido van Rossum\n",
    "#2) Python is a multi-paradigm programming language. Object-oriented programming and structuredprogramming are fully supported.\n",
    "#3) Yes, Python is a case-sensitive language.\n",
    "#4) .py\n",
    "#5) Pythin is a interpreted language.\n",
    "#6) Indentation is used to define a block of code in python. Braces {} are used to define a block of code in programming languages.\n",
    "#7) # is used for single line comment in python.\n",
    "#8) The function sys.version can help us to find the version of python that we are currently working on it.\n",
    "#9) lambda\n",
    "#10) pip stands for preferred installer program\n",
    "#11) print() function, type() function, input() function, abs() function.\n",
    "#12) An identifier can have a maximum kength of 79 characters in python.\n",
    "#13) Python programming is a general-purpose skill used in almost all fields, including: Data science,Scientific and mathematical computing,Web development,Finance and trading\n",
    "#14) Memory management in Python involves a private heap containing all Python objects and data structures. The management of this private heap is ensured internally by the Python memory manager.\n",
    "#15) \n"
   ]
  }
 ],
 "metadata": {
  "kernelspec": {
   "display_name": "Python 3 (ipykernel)",
   "language": "python",
   "name": "python3"
  },
  "language_info": {
   "codemirror_mode": {
    "name": "ipython",
    "version": 3
   },
   "file_extension": ".py",
   "mimetype": "text/x-python",
   "name": "python",
   "nbconvert_exporter": "python",
   "pygments_lexer": "ipython3",
   "version": "3.10.8"
  }
 },
 "nbformat": 4,
 "nbformat_minor": 5
}
